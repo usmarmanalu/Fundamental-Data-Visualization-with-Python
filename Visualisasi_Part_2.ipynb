{
  "cells": [
    {
      "cell_type": "markdown",
      "metadata": {
        "id": "view-in-github",
        "colab_type": "text"
      },
      "source": [
        "<a href=\"https://colab.research.google.com/github/usmarmanalu/Fundamental-Data-Visualization-with-Python/blob/main/Visualisasi_Part_2.ipynb\" target=\"_parent\"><img src=\"https://colab.research.google.com/assets/colab-badge.svg\" alt=\"Open In Colab\"/></a>"
      ]
    },
    {
      "cell_type": "code",
      "execution_count": null,
      "metadata": {
        "id": "vrUj-6mos7-_"
      },
      "outputs": [],
      "source": [
        "import pandas as pd\n",
        "import matplotlib.pyplot as plt\n",
        "\n",
        "tabel = pd.read_csv(\"https://storage.googleapis.com/dqlab-dataset/produktivitas_karyawan.csv\", index_col=\"Bulan\") / 1000\n",
        "\n",
        "fig, ax = plt.subplots(1, 1, figsize=(12, 6))\n",
        "fig.suptitle(\"Best Employee 2019\", x=0.01, y=0.95, fontsize=24, fontweight=\"bold\", ha=\"left\")\n",
        "ax.set_title(\"Lima karyawan dengan produktivitas tertinggi\\n\", fontsize=18, ha=\"right\")\n",
        "\n",
        "colors = [\"tab:gray\", \"tab:gray\", \"tab:gray\", \"tab:gray\", \"darkblue\"]\n",
        "line_widths = [ 1.5, 2, 1, 2.5, 3.]\n",
        "lp = tabel.plot(kind=\"line\", ax=ax, xlim=[0, 11], ylim= [10, 40], color=colors,\n",
        "\n",
        "\n",
        "xticks=range(tabel.shape[0]), yticks=[10, 20, 30, 40])\n",
        "add_lbl_pos = [0.3, 0.5, 1.2, -1.0, 0.5]\n",
        "add_avg_pos = [-0.7, -0.5, 0.2, -2.0, -0.5]\n",
        "for i, item in enumerate (lp.get_lines()):\n",
        "  item.set_linewidth (line_widths[i])\n",
        "  lbl = item.get_label()\n",
        "\n",
        "  ax.annotate(lbl, (11, tabel.loc[\"Desember\", lbl]),\n",
        "              (11.2, tabel.loc[\"Desember\", lbl] + add_lbl_pos[i]),\n",
        "              fontweight=\"bold\", fontsize=12, color=colors[i], va=\"center\",\n",
        "              arrowprops={\"arrowstyle\":\"-\", \"color\": colors[i]})\n",
        "\n",
        "  ax.annotate(\"(avg: %.4f)\" % tabel [lbl].mean(), (11, tabel.loc[\"Desember\", lbl]),\n",
        "              (11.2, tabel.loc[\"Desember\", lbl] + add_avg_pos[i]),\n",
        "              fontsize=11, color=colors[i], va=\"center\")\n",
        "\n",
        "highest_prod = tabel [ \"Karyawan E\"].max()\n",
        "\n",
        "ax.annotate(\"Produktivitas \\ntertinggi\\n%.4f\" % highest_prod,\n",
        "            (8, highest_prod), (7.75, highest_prod+1.5),\n",
        "            ha=\"left\", color=colors[-1], arrowprops = {\"arrowstyle\":\"-\", \"color\": colors[-1]})\n",
        "\n",
        "ax.set_xticklabels ([item[:3] for item in tabel.index], fontsize=12)\n",
        "ax.set_yticklabels ([str(i) for i in [10, 20, 30, 40]], fontsize=12)\n",
        "ax.set_xlabel(\"\")\n",
        "ax.set_ylabel(\"Jumlah produk (ribuan) \\n\", fontsize=14)\n",
        "ax.spines[\"top\"].set_color(\"none\")\n",
        "ax.spines[\"right\"].set_color(\"none\")\n",
        "ax.spines[\"bottom\"].set_color(\"none\")\n",
        "ax.get_legend().remove()\n",
        "plt.tight_layout (rect=(0, 0, 1, 0.90))\n",
        "plt.show()\n"
      ]
    }
  ],
  "metadata": {
    "colab": {
      "provenance": [],
      "authorship_tag": "ABX9TyOlgXr5j3LUiiHMlbAPte2H",
      "include_colab_link": true
    },
    "kernelspec": {
      "display_name": "Python 3",
      "name": "python3"
    },
    "language_info": {
      "name": "python"
    }
  },
  "nbformat": 4,
  "nbformat_minor": 0
}