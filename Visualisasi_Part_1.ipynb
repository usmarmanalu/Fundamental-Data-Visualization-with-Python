{
  "nbformat": 4,
  "nbformat_minor": 0,
  "metadata": {
    "colab": {
      "provenance": [],
      "authorship_tag": "ABX9TyP9j8LIERN8ZCPYSAApu3pE",
      "include_colab_link": true
    },
    "kernelspec": {
      "name": "python3",
      "display_name": "Python 3"
    },
    "language_info": {
      "name": "python"
    }
  },
  "cells": [
    {
      "cell_type": "markdown",
      "metadata": {
        "id": "view-in-github",
        "colab_type": "text"
      },
      "source": [
        "<a href=\"https://colab.research.google.com/github/usmarmanalu/Fundamental-Data-Visualization-with-Python/blob/main/Visualisasi_Part_1.ipynb\" target=\"_parent\"><img src=\"https://colab.research.google.com/assets/colab-badge.svg\" alt=\"Open In Colab\"/></a>"
      ]
    },
    {
      "cell_type": "code",
      "execution_count": null,
      "metadata": {
        "id": "76sny_tbfqbc"
      },
      "outputs": [],
      "source": [
        "import pandas as pd\n",
        "import matplotlib.pyplot as plt\n",
        "\n",
        "tabel = (pd.read_csv(\"https://storage.googleapis.com/dqlab-dataset/usia_karyawan.csv\")\n",
        ".sort_values(\"Kelompok Usia\", ascending= False)\n",
        ".set_index(\"Kelompok Usia\")\n",
        ")\n",
        "\n",
        "tabel[\"Laki-laki\"] = -tabel[\"Laki-laki\"]\n",
        "\n",
        "fig, axes = plt.subplots(1, 2, figsize=(14, 6))\n",
        "\n",
        "fig.suptitle(\"Perbandingan Jumlah Karyawan Laki-laki dan Perempuan\\nBerdasarkan Kelompok Usia\",\n",
        "             x= 0., y= 1.0, fontsize= 24, fontweight= \"bold\",  ha= \"left\")\n",
        "\n",
        "tabel[\"Laki-laki\"].plot(kind= \"barh\", ax= axes[0], color=\"tab:blue\", xlim=[-550, 0])\n",
        "tabel[\"Perempuan\"].plot(kind= \"barh\", ax= axes[1], color=\"tab:orange\", fontsize= 14, xlim=[0, 550])\n",
        "\n",
        "axes[0].set_ylabel(\"\")\n",
        "axes[0].tick_params(left= False, bottom= False, labelleft= False, labelbottom= False)\n",
        "axes[0].legend([\"Laki-laki\"], fontsize= 14, bbox_to_anchor=(0., 0., 1., .05))\n",
        "axes[0].set_frame_on(False)\n",
        "\n",
        "axes[1].set_ylabel(\"\")\n",
        "axes[1].tick_params(left= False, bottom= False, labelbottom= False)\n",
        "axes[1].legend([\"Perempuan\"], fontsize= 14, bbox_to_anchor= (0., 0., 0.3, .05))\n",
        "axes[1].set_frame_on(False)\n",
        "\n",
        "for i, m, w in zip(range(tabel.shape[0]), list(tabel[\"Laki-laki\"]), list(tabel[\"Perempuan\"])) :\n",
        "  axes[0].annotate(str(abs(m)), (m+20, i), xytext= (m+20, i),\n",
        "                   color= \"w\", va= \"center\", ha= \"center\", fontsize= 14)\n",
        "  axes[1].annotate(str(abs(w)), (w-20, i), xytext= (w-20, i),\n",
        "                   color= \"w\", va= \"center\", ha= \"center\", fontsize= 14)\n",
        "\n",
        "plt.tight_layout(rect= (0, 0, 1, 0.88))\n",
        "plt.show()\n"
      ]
    }
  ]
}